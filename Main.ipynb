{
 "cells": [
  {
   "cell_type": "code",
   "execution_count": 16,
   "metadata": {},
   "outputs": [
    {
     "name": "stdout",
     "output_type": "stream",
     "text": [
      "The autoreload extension is already loaded. To reload it, use:\n",
      "  %reload_ext autoreload\n"
     ]
    }
   ],
   "source": [
    "# Ensure that the autoreload extension is loaded\n",
    "%load_ext autoreload\n",
    "# Reload all modules before executing the next line\n",
    "%autoreload 2\n",
    "\n",
    "import os\n",
    "import polars as pl\n",
    "\n",
    "from src.Config import Config\n",
    "from src.DataWrangler import DataWrangler\n",
    "from src.Process import Process\n",
    "from src.ExpenseDashboard import ExpenseDashboard\n",
    "\n",
    "source = os.popen(\"git rev-parse --show-toplevel\").read().strip()\n"
   ]
  },
  {
   "cell_type": "code",
   "execution_count": 17,
   "metadata": {},
   "outputs": [],
   "source": [
    "config = Config(f\"{source}/src/config.yaml\")"
   ]
  },
  {
   "cell_type": "markdown",
   "metadata": {},
   "source": [
    "# Loading data\n"
   ]
  },
  {
   "cell_type": "code",
   "execution_count": 18,
   "metadata": {},
   "outputs": [],
   "source": [
    "dw = DataWrangler(config)"
   ]
  },
  {
   "cell_type": "code",
   "execution_count": 19,
   "metadata": {},
   "outputs": [],
   "source": [
    "dw.load_updated_file()"
   ]
  },
  {
   "cell_type": "code",
   "execution_count": 20,
   "metadata": {},
   "outputs": [],
   "source": [
    "df_raw = pl.read_csv(config.get(\"finance_raw_path\"))"
   ]
  },
  {
   "cell_type": "markdown",
   "metadata": {},
   "source": [
    "# Processing data"
   ]
  },
  {
   "cell_type": "code",
   "execution_count": 21,
   "metadata": {},
   "outputs": [],
   "source": [
    "pr = Process(config)"
   ]
  },
  {
   "cell_type": "code",
   "execution_count": 22,
   "metadata": {},
   "outputs": [],
   "source": [
    "df = pr.process_data(df_raw)"
   ]
  },
  {
   "cell_type": "code",
   "execution_count": 23,
   "metadata": {},
   "outputs": [
    {
     "data": {
      "text/html": [
       "<div><style>\n",
       ".dataframe > thead > tr,\n",
       ".dataframe > tbody > tr {\n",
       "  text-align: right;\n",
       "  white-space: pre-wrap;\n",
       "}\n",
       "</style>\n",
       "<small>shape: (5, 4)</small><table border=\"1\" class=\"dataframe\"><thead><tr><th>Date</th><th>Description</th><th>Category</th><th>Value</th></tr><tr><td>date</td><td>str</td><td>str</td><td>f64</td></tr></thead><tbody><tr><td>2023-06-03</td><td>&quot;Scarpe usate su Vinted&quot;</td><td>&quot;Oggetti personali&quot;</td><td>26.59</td></tr><tr><td>2023-06-05</td><td>&quot;Caffè&quot;</td><td>&quot;Cibo&quot;</td><td>2.4</td></tr><tr><td>2023-06-05</td><td>&quot;Aperitivo con Nicole e Cate&quot;</td><td>&quot;Svago&quot;</td><td>40.0</td></tr><tr><td>2023-06-05</td><td>&quot;Pomodorini per schietta&quot;</td><td>&quot;Cibo&quot;</td><td>1.79</td></tr><tr><td>2023-06-08</td><td>&quot;Regalo Illu&quot;</td><td>&quot;Altro&quot;</td><td>7.5</td></tr></tbody></table></div>"
      ],
      "text/plain": [
       "shape: (5, 4)\n",
       "┌────────────┬─────────────────────────────┬───────────────────┬───────┐\n",
       "│ Date       ┆ Description                 ┆ Category          ┆ Value │\n",
       "│ ---        ┆ ---                         ┆ ---               ┆ ---   │\n",
       "│ date       ┆ str                         ┆ str               ┆ f64   │\n",
       "╞════════════╪═════════════════════════════╪═══════════════════╪═══════╡\n",
       "│ 2023-06-03 ┆ Scarpe usate su Vinted      ┆ Oggetti personali ┆ 26.59 │\n",
       "│ 2023-06-05 ┆ Caffè                       ┆ Cibo              ┆ 2.4   │\n",
       "│ 2023-06-05 ┆ Aperitivo con Nicole e Cate ┆ Svago             ┆ 40.0  │\n",
       "│ 2023-06-05 ┆ Pomodorini per schietta     ┆ Cibo              ┆ 1.79  │\n",
       "│ 2023-06-08 ┆ Regalo Illu                 ┆ Altro             ┆ 7.5   │\n",
       "└────────────┴─────────────────────────────┴───────────────────┴───────┘"
      ]
     },
     "execution_count": 23,
     "metadata": {},
     "output_type": "execute_result"
    }
   ],
   "source": [
    "df.head()"
   ]
  },
  {
   "cell_type": "markdown",
   "metadata": {},
   "source": [
    "# Dashboard"
   ]
  },
  {
   "cell_type": "code",
   "execution_count": 93,
   "metadata": {},
   "outputs": [],
   "source": [
    "dashboard = ExpenseDashboard(df)"
   ]
  },
  {
   "cell_type": "code",
   "execution_count": 92,
   "metadata": {},
   "outputs": [
    {
     "name": "stdout",
     "output_type": "stream",
     "text": [
      "Dashboard will run at http://127.0.0.1:8050/\n"
     ]
    },
    {
     "data": {
      "text/html": [
       "\n",
       "        <iframe\n",
       "            width=\"100%\"\n",
       "            height=\"650\"\n",
       "            src=\"http://127.0.0.1:8050/\"\n",
       "            frameborder=\"0\"\n",
       "            allowfullscreen\n",
       "            \n",
       "        ></iframe>\n",
       "        "
      ],
      "text/plain": [
       "<IPython.lib.display.IFrame at 0x17f43c710>"
      ]
     },
     "metadata": {},
     "output_type": "display_data"
    }
   ],
   "source": [
    "dashboard.run_server()"
   ]
  },
  {
   "cell_type": "code",
   "execution_count": null,
   "metadata": {},
   "outputs": [],
   "source": []
  }
 ],
 "metadata": {
  "kernelspec": {
   "display_name": "FinancePlayground",
   "language": "python",
   "name": "python3"
  },
  "language_info": {
   "codemirror_mode": {
    "name": "ipython",
    "version": 3
   },
   "file_extension": ".py",
   "mimetype": "text/x-python",
   "name": "python",
   "nbconvert_exporter": "python",
   "pygments_lexer": "ipython3",
   "version": "3.12.4"
  }
 },
 "nbformat": 4,
 "nbformat_minor": 2
}
